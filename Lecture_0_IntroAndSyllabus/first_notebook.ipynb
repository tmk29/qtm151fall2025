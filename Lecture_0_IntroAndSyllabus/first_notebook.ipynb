{
 "cells": [
  {
   "cell_type": "markdown",
   "id": "2bebdb79",
   "metadata": {},
   "source": [
    "# This is my first Jupyter notebook\n"
   ]
  },
  {
   "cell_type": "code",
   "execution_count": 1,
   "id": "e7f6d298",
   "metadata": {},
   "outputs": [
    {
     "name": "stdout",
     "output_type": "stream",
     "text": [
      "My name is Timothy Kim\n"
     ]
    }
   ],
   "source": [
    "print(\"My name is Timothy Kim\")"
   ]
  }
 ],
 "metadata": {
  "kernelspec": {
   "display_name": "base",
   "language": "python",
   "name": "python3"
  },
  "language_info": {
   "codemirror_mode": {
    "name": "ipython",
    "version": 3
   },
   "file_extension": ".py",
   "mimetype": "text/x-python",
   "name": "python",
   "nbconvert_exporter": "python",
   "pygments_lexer": "ipython3",
   "version": "3.10.9"
  }
 },
 "nbformat": 4,
 "nbformat_minor": 5
}
